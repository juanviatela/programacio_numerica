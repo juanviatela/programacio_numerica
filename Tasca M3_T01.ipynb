{
 "cells": [
  {
   "cell_type": "markdown",
   "id": "0ae893d1",
   "metadata": {},
   "source": [
    "# Tasca M3_T01"
   ]
  },
  {
   "cell_type": "markdown",
   "id": "94daf022",
   "metadata": {},
   "source": [
    "## Exercici 1\n",
    "\n",
    "Donat el següent dataframe data = {'Col1': [50, 30, 10, 40, 20]}, ordena els valors en ordre ascendent i descendent."
   ]
  },
  {
   "cell_type": "code",
   "execution_count": 1,
   "id": "8648adbb",
   "metadata": {},
   "outputs": [],
   "source": [
    "import numpy as np\n"
   ]
  },
  {
   "cell_type": "code",
   "execution_count": 2,
   "id": "2049be98",
   "metadata": {},
   "outputs": [],
   "source": [
    "col_1 = [50, 30, 10, 40, 20]"
   ]
  },
  {
   "cell_type": "code",
   "execution_count": 3,
   "id": "e1d4e93d",
   "metadata": {},
   "outputs": [],
   "source": [
    "np_col_1 = np.array(col_1)"
   ]
  },
  {
   "cell_type": "code",
   "execution_count": 4,
   "id": "463eb17c",
   "metadata": {},
   "outputs": [
    {
     "data": {
      "text/plain": [
       "array([50, 30, 10, 40, 20])"
      ]
     },
     "execution_count": 4,
     "metadata": {},
     "output_type": "execute_result"
    }
   ],
   "source": [
    "np_col_1"
   ]
  },
  {
   "cell_type": "code",
   "execution_count": 5,
   "id": "c4e9746e",
   "metadata": {},
   "outputs": [
    {
     "name": "stdout",
     "output_type": "stream",
     "text": [
      "<class 'numpy.ndarray'>\n"
     ]
    }
   ],
   "source": [
    "print(type(np_col_1))"
   ]
  },
  {
   "cell_type": "code",
   "execution_count": 6,
   "id": "6e3a0c46",
   "metadata": {},
   "outputs": [
    {
     "data": {
      "text/plain": [
       "array([10, 20, 30, 40, 50])"
      ]
     },
     "execution_count": 6,
     "metadata": {},
     "output_type": "execute_result"
    }
   ],
   "source": [
    "np_col_1_asc = np.sort(np_col_1)\n",
    "np_col_1_asc"
   ]
  },
  {
   "cell_type": "markdown",
   "id": "4e0dd792",
   "metadata": {},
   "source": [
    "Al no existir un argumento para indicarle al método .sort() que ordene los números de manera descendente busco otras formas de hacerlo"
   ]
  },
  {
   "cell_type": "code",
   "execution_count": 7,
   "id": "30172f27",
   "metadata": {},
   "outputs": [
    {
     "data": {
      "text/plain": [
       "array([50, 40, 30, 20, 10])"
      ]
     },
     "execution_count": 7,
     "metadata": {},
     "output_type": "execute_result"
    }
   ],
   "source": [
    "np_col_1_desc1 = -np.sort(-np_col_1)\n",
    "np_col_1_desc1"
   ]
  },
  {
   "cell_type": "code",
   "execution_count": 8,
   "id": "83498a33",
   "metadata": {},
   "outputs": [
    {
     "data": {
      "text/plain": [
       "array([50, 40, 30, 20, 10])"
      ]
     },
     "execution_count": 8,
     "metadata": {},
     "output_type": "execute_result"
    }
   ],
   "source": [
    "np_col_1_desc2 = np.sort(np_col_1)[::-1]\n",
    "np_col_1_desc2"
   ]
  },
  {
   "cell_type": "code",
   "execution_count": 9,
   "id": "538a6de5",
   "metadata": {},
   "outputs": [
    {
     "data": {
      "text/plain": [
       "array([50, 30, 10, 40, 20])"
      ]
     },
     "execution_count": 9,
     "metadata": {},
     "output_type": "execute_result"
    }
   ],
   "source": [
    "np_col_1_desc3 = np_col_1[::1]\n",
    "np_col_1_desc3"
   ]
  },
  {
   "cell_type": "markdown",
   "id": "fb5d25f1",
   "metadata": {},
   "source": [
    "## Exercici 2\n",
    "\n",
    "Donat el següent dataframe data = {'Col1': [50, 30, 10, 40, 20]}, filtra els valors que siguin més grans que 30."
   ]
  },
  {
   "cell_type": "code",
   "execution_count": 10,
   "id": "d2817b24",
   "metadata": {},
   "outputs": [
    {
     "data": {
      "text/plain": [
       "array([50, 40])"
      ]
     },
     "execution_count": 10,
     "metadata": {},
     "output_type": "execute_result"
    }
   ],
   "source": [
    "np_col_1_plus30 = np_col_1[np_col_1 > 30]\n",
    "np_col_1_plus30"
   ]
  },
  {
   "cell_type": "markdown",
   "id": "a35f653a",
   "metadata": {},
   "source": [
    "## Exercici 3\n",
    "\n",
    "Donat el següent dataframe data = {'Col1': [50, 30, 10, 40, 10]}, comptabilitza els valors únics."
   ]
  },
  {
   "cell_type": "code",
   "execution_count": 11,
   "id": "264e3ef2",
   "metadata": {},
   "outputs": [
    {
     "data": {
      "text/plain": [
       "array([50, 30, 10, 40, 10])"
      ]
     },
     "execution_count": 11,
     "metadata": {},
     "output_type": "execute_result"
    }
   ],
   "source": [
    "col_1_1 = [50, 30, 10, 40, 10]\n",
    "np_col_1_1 = np.array(col_1_1)\n",
    "np_col_1_1"
   ]
  },
  {
   "cell_type": "markdown",
   "id": "9088b13d",
   "metadata": {},
   "source": [
    "Con el método np.unique(return_counts = True) obtenemos dos arrays: uno con los números únicos y otro con su contabilidad dentro del array"
   ]
  },
  {
   "cell_type": "code",
   "execution_count": 12,
   "id": "94c441ac",
   "metadata": {},
   "outputs": [
    {
     "data": {
      "text/plain": [
       "(array([10, 30, 40, 50]), array([2, 1, 1, 1]))"
      ]
     },
     "execution_count": 12,
     "metadata": {},
     "output_type": "execute_result"
    }
   ],
   "source": [
    "np_col_1_1_unique = np.unique(np_col_1_1, return_counts = True)\n",
    "np_col_1_1_unique"
   ]
  },
  {
   "cell_type": "markdown",
   "id": "44f53406",
   "metadata": {},
   "source": [
    "Para obtener solo la contabilidad utilizamos una combinación de la función len y del método np.unique: "
   ]
  },
  {
   "cell_type": "code",
   "execution_count": 13,
   "id": "8a3e584d",
   "metadata": {},
   "outputs": [
    {
     "data": {
      "text/plain": [
       "4"
      ]
     },
     "execution_count": 13,
     "metadata": {},
     "output_type": "execute_result"
    }
   ],
   "source": [
    "np_col_1_1_unique1 = len(np.unique(np_col_1_1))\n",
    "np_col_1_1_unique1"
   ]
  },
  {
   "cell_type": "markdown",
   "id": "1bf83fa0",
   "metadata": {},
   "source": [
    "## Exercici 4\n",
    "Donat el següent dataframe: data = {'Grup': ['A', 'B', 'A', 'B', 'A'], 'Col1': [10, 20, 30, 40, 50]}, suma les dades que pertanyen a la mateixa columna."
   ]
  },
  {
   "cell_type": "code",
   "execution_count": 14,
   "id": "a7a77624",
   "metadata": {},
   "outputs": [
    {
     "name": "stdout",
     "output_type": "stream",
     "text": [
      "['A' 'B' 'A' 'B' 'A']\n",
      "[10 20 30 40 50]\n"
     ]
    }
   ],
   "source": [
    "Grup = [\"A\", \"B\", \"A\", \"B\", \"A\"]\n",
    "Col1 = [10, 20, 30, 40, 50]\n",
    "np_grup1 = np.array(Grup)\n",
    "np_Col1 = np.array(Col1)\n",
    "print(np_grup1)\n",
    "print(np_Col1)"
   ]
  },
  {
   "cell_type": "code",
   "execution_count": 15,
   "id": "afb72d0b",
   "metadata": {},
   "outputs": [
    {
     "data": {
      "text/plain": [
       "90"
      ]
     },
     "execution_count": 15,
     "metadata": {},
     "output_type": "execute_result"
    }
   ],
   "source": [
    "Col_A = np_Col1[np_grup1 == \"A\"]\n",
    "Sum_Col_A = np.sum(Col_A)\n",
    "Sum_Col_A"
   ]
  },
  {
   "cell_type": "code",
   "execution_count": 16,
   "id": "cd78fc19",
   "metadata": {},
   "outputs": [
    {
     "data": {
      "text/plain": [
       "60"
      ]
     },
     "execution_count": 16,
     "metadata": {},
     "output_type": "execute_result"
    }
   ],
   "source": [
    "Col_B = np_Col1[np_grup1 == \"B\"]\n",
    "Sum_Col_B = np.sum(Col_B)\n",
    "Sum_Col_B"
   ]
  },
  {
   "cell_type": "markdown",
   "id": "ae1d1d99",
   "metadata": {},
   "source": [
    "## Exercici 5\n",
    "\n",
    "Donat el següent dataframe: data = {'Grup': ['A', 'B', 'A', 'B', 'A'], 'Col1': [10, 20, 30, 40, 50]}, crea una columna nova ‘Col2’ que sigui 2 si és superior al percentil 75% de la ‘Col1’, 0 si és inferior al 25% del percentil de la columna ‘Col1’ i 1 si cau entremig.\n",
    "\n"
   ]
  },
  {
   "cell_type": "code",
   "execution_count": 17,
   "id": "00fd3933",
   "metadata": {},
   "outputs": [],
   "source": [
    "import pandas as pd "
   ]
  },
  {
   "cell_type": "code",
   "execution_count": 18,
   "id": "aee215a1",
   "metadata": {},
   "outputs": [
    {
     "data": {
      "text/html": [
       "<div>\n",
       "<style scoped>\n",
       "    .dataframe tbody tr th:only-of-type {\n",
       "        vertical-align: middle;\n",
       "    }\n",
       "\n",
       "    .dataframe tbody tr th {\n",
       "        vertical-align: top;\n",
       "    }\n",
       "\n",
       "    .dataframe thead th {\n",
       "        text-align: right;\n",
       "    }\n",
       "</style>\n",
       "<table border=\"1\" class=\"dataframe\">\n",
       "  <thead>\n",
       "    <tr style=\"text-align: right;\">\n",
       "      <th></th>\n",
       "      <th>Grup</th>\n",
       "      <th>Col1</th>\n",
       "    </tr>\n",
       "  </thead>\n",
       "  <tbody>\n",
       "    <tr>\n",
       "      <th>0</th>\n",
       "      <td>A</td>\n",
       "      <td>10</td>\n",
       "    </tr>\n",
       "    <tr>\n",
       "      <th>1</th>\n",
       "      <td>B</td>\n",
       "      <td>20</td>\n",
       "    </tr>\n",
       "    <tr>\n",
       "      <th>2</th>\n",
       "      <td>A</td>\n",
       "      <td>30</td>\n",
       "    </tr>\n",
       "    <tr>\n",
       "      <th>3</th>\n",
       "      <td>B</td>\n",
       "      <td>40</td>\n",
       "    </tr>\n",
       "    <tr>\n",
       "      <th>4</th>\n",
       "      <td>A</td>\n",
       "      <td>50</td>\n",
       "    </tr>\n",
       "  </tbody>\n",
       "</table>\n",
       "</div>"
      ],
      "text/plain": [
       "  Grup  Col1\n",
       "0    A    10\n",
       "1    B    20\n",
       "2    A    30\n",
       "3    B    40\n",
       "4    A    50"
      ]
     },
     "execution_count": 18,
     "metadata": {},
     "output_type": "execute_result"
    }
   ],
   "source": [
    "data = {'Grup': ['A', 'B', 'A', 'B', 'A'], 'Col1': [10, 20, 30, 40, 50]}\n",
    "exercici_5 = pd.DataFrame(data)\n",
    "exercici_5"
   ]
  },
  {
   "cell_type": "code",
   "execution_count": 21,
   "id": "6caa9302",
   "metadata": {},
   "outputs": [
    {
     "data": {
      "text/html": [
       "<div>\n",
       "<style scoped>\n",
       "    .dataframe tbody tr th:only-of-type {\n",
       "        vertical-align: middle;\n",
       "    }\n",
       "\n",
       "    .dataframe tbody tr th {\n",
       "        vertical-align: top;\n",
       "    }\n",
       "\n",
       "    .dataframe thead th {\n",
       "        text-align: right;\n",
       "    }\n",
       "</style>\n",
       "<table border=\"1\" class=\"dataframe\">\n",
       "  <thead>\n",
       "    <tr style=\"text-align: right;\">\n",
       "      <th></th>\n",
       "      <th>Grup</th>\n",
       "      <th>Col1</th>\n",
       "      <th>Col2</th>\n",
       "    </tr>\n",
       "  </thead>\n",
       "  <tbody>\n",
       "    <tr>\n",
       "      <th>0</th>\n",
       "      <td>A</td>\n",
       "      <td>10</td>\n",
       "      <td>0</td>\n",
       "    </tr>\n",
       "    <tr>\n",
       "      <th>1</th>\n",
       "      <td>B</td>\n",
       "      <td>20</td>\n",
       "      <td>1</td>\n",
       "    </tr>\n",
       "    <tr>\n",
       "      <th>2</th>\n",
       "      <td>A</td>\n",
       "      <td>30</td>\n",
       "      <td>1</td>\n",
       "    </tr>\n",
       "    <tr>\n",
       "      <th>3</th>\n",
       "      <td>B</td>\n",
       "      <td>40</td>\n",
       "      <td>1</td>\n",
       "    </tr>\n",
       "    <tr>\n",
       "      <th>4</th>\n",
       "      <td>A</td>\n",
       "      <td>50</td>\n",
       "      <td>2</td>\n",
       "    </tr>\n",
       "  </tbody>\n",
       "</table>\n",
       "</div>"
      ],
      "text/plain": [
       "  Grup  Col1  Col2\n",
       "0    A    10     0\n",
       "1    B    20     1\n",
       "2    A    30     1\n",
       "3    B    40     1\n",
       "4    A    50     2"
      ]
     },
     "execution_count": 21,
     "metadata": {},
     "output_type": "execute_result"
    }
   ],
   "source": [
    "def agregar_col_percentil(exercici_5, columna):\n",
    "    percentile_25 = np.percentile(exercici_5[\"Col1\"],25)\n",
    "    percentile_75 = np.percentile(exercici_5[\"Col1\"],75)\n",
    "    exercici_5[\"Col2\"] = np.where(exercici_5[\"Col1\"] > percentile_75, 2, \n",
    "                         np.where(exercici_5[\"Col1\"] < percentile_25,0, 1))\n",
    "    return exercici_5\n",
    "\n",
    "agregar_col_percentil(exercici_5, \"Col2\")"
   ]
  },
  {
   "cell_type": "markdown",
   "id": "6254a0aa",
   "metadata": {},
   "source": [
    "## Exercici 6\n",
    "\n",
    "Donat el següent dataframe: data = {'Grup': ['A', 'B', 'A', 'B', 'A'], 'Col1': [10, 20, 30, 40, 50]}, aplica lambda per obtenir el quadrat de la columna ‘Col1’ en una nova columna."
   ]
  },
  {
   "cell_type": "code",
   "execution_count": 22,
   "id": "8bd293e6",
   "metadata": {},
   "outputs": [
    {
     "data": {
      "text/html": [
       "<div>\n",
       "<style scoped>\n",
       "    .dataframe tbody tr th:only-of-type {\n",
       "        vertical-align: middle;\n",
       "    }\n",
       "\n",
       "    .dataframe tbody tr th {\n",
       "        vertical-align: top;\n",
       "    }\n",
       "\n",
       "    .dataframe thead th {\n",
       "        text-align: right;\n",
       "    }\n",
       "</style>\n",
       "<table border=\"1\" class=\"dataframe\">\n",
       "  <thead>\n",
       "    <tr style=\"text-align: right;\">\n",
       "      <th></th>\n",
       "      <th>Grup</th>\n",
       "      <th>Col1</th>\n",
       "      <th>Col2</th>\n",
       "      <th>Col3</th>\n",
       "    </tr>\n",
       "  </thead>\n",
       "  <tbody>\n",
       "    <tr>\n",
       "      <th>0</th>\n",
       "      <td>A</td>\n",
       "      <td>10</td>\n",
       "      <td>0</td>\n",
       "      <td>100</td>\n",
       "    </tr>\n",
       "    <tr>\n",
       "      <th>1</th>\n",
       "      <td>B</td>\n",
       "      <td>20</td>\n",
       "      <td>1</td>\n",
       "      <td>400</td>\n",
       "    </tr>\n",
       "    <tr>\n",
       "      <th>2</th>\n",
       "      <td>A</td>\n",
       "      <td>30</td>\n",
       "      <td>1</td>\n",
       "      <td>900</td>\n",
       "    </tr>\n",
       "    <tr>\n",
       "      <th>3</th>\n",
       "      <td>B</td>\n",
       "      <td>40</td>\n",
       "      <td>1</td>\n",
       "      <td>1600</td>\n",
       "    </tr>\n",
       "    <tr>\n",
       "      <th>4</th>\n",
       "      <td>A</td>\n",
       "      <td>50</td>\n",
       "      <td>2</td>\n",
       "      <td>2500</td>\n",
       "    </tr>\n",
       "  </tbody>\n",
       "</table>\n",
       "</div>"
      ],
      "text/plain": [
       "  Grup  Col1  Col2  Col3\n",
       "0    A    10     0   100\n",
       "1    B    20     1   400\n",
       "2    A    30     1   900\n",
       "3    B    40     1  1600\n",
       "4    A    50     2  2500"
      ]
     },
     "execution_count": 22,
     "metadata": {},
     "output_type": "execute_result"
    }
   ],
   "source": [
    "exercici_5[\"Col3\"] = exercici_5[\"Col1\"].apply(lambda x: x ** 2)\n",
    "exercici_5"
   ]
  },
  {
   "cell_type": "code",
   "execution_count": null,
   "id": "b6e40ce8",
   "metadata": {},
   "outputs": [],
   "source": []
  }
 ],
 "metadata": {
  "kernelspec": {
   "display_name": "Python 3 (ipykernel)",
   "language": "python",
   "name": "python3"
  },
  "language_info": {
   "codemirror_mode": {
    "name": "ipython",
    "version": 3
   },
   "file_extension": ".py",
   "mimetype": "text/x-python",
   "name": "python",
   "nbconvert_exporter": "python",
   "pygments_lexer": "ipython3",
   "version": "3.10.9"
  }
 },
 "nbformat": 4,
 "nbformat_minor": 5
}
