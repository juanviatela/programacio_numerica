{
 "cells": [
  {
   "cell_type": "markdown",
   "id": "c835bfaa",
   "metadata": {},
   "source": [
    "# Tasca M3 T01"
   ]
  },
  {
   "cell_type": "markdown",
   "id": "5d6cdd2c",
   "metadata": {},
   "source": [
    "## Exercici 1\n",
    "\n",
    "Carregar “data” i \"features\" del conjunt de dades, i visualitza els 10 primers registres de cadascun."
   ]
  },
  {
   "cell_type": "code",
   "execution_count": 1,
   "id": "30ae6455",
   "metadata": {},
   "outputs": [],
   "source": [
    "import numpy as np\n",
    "import pandas as pd\n",
    "from sklearn.datasets import load_iris"
   ]
  },
  {
   "cell_type": "code",
   "execution_count": 30,
   "id": "0d548132",
   "metadata": {},
   "outputs": [],
   "source": [
    "iris = load_iris()\n",
    "\n",
    "data = iris.data #datos de cada registre\n",
    "feature = iris.feature_names # nombre de cada columna\n",
    "target = iris.target # tipo de especie a la que pertenece cada registro\n",
    "species = iris.target_names # nombre de cada especie"
   ]
  },
  {
   "cell_type": "code",
   "execution_count": 4,
   "id": "4a961e8e",
   "metadata": {},
   "outputs": [],
   "source": [
    "data_np = np.array(data)\n",
    "feature_np = np.array(feature)"
   ]
  },
  {
   "cell_type": "code",
   "execution_count": 5,
   "id": "23bed292",
   "metadata": {},
   "outputs": [
    {
     "data": {
      "text/plain": [
       "array([[5.1, 3.5, 1.4, 0.2],\n",
       "       [4.9, 3. , 1.4, 0.2],\n",
       "       [4.7, 3.2, 1.3, 0.2],\n",
       "       [4.6, 3.1, 1.5, 0.2],\n",
       "       [5. , 3.6, 1.4, 0.2],\n",
       "       [5.4, 3.9, 1.7, 0.4],\n",
       "       [4.6, 3.4, 1.4, 0.3],\n",
       "       [5. , 3.4, 1.5, 0.2],\n",
       "       [4.4, 2.9, 1.4, 0.2],\n",
       "       [4.9, 3.1, 1.5, 0.1]])"
      ]
     },
     "execution_count": 5,
     "metadata": {},
     "output_type": "execute_result"
    }
   ],
   "source": [
    "data_np[:10 :]"
   ]
  },
  {
   "cell_type": "code",
   "execution_count": 6,
   "id": "af29ba12",
   "metadata": {},
   "outputs": [
    {
     "data": {
      "text/plain": [
       "array(['sepal length (cm)', 'sepal width (cm)', 'petal length (cm)',\n",
       "       'petal width (cm)'], dtype='<U17')"
      ]
     },
     "execution_count": 6,
     "metadata": {},
     "output_type": "execute_result"
    }
   ],
   "source": [
    "feature_np # Como el array feature_np tiene solo 4 objetos, lo consultamos completo"
   ]
  },
  {
   "cell_type": "markdown",
   "id": "c91c55a6",
   "metadata": {},
   "source": [
    "## Exercici 2\n",
    "\n",
    "Concatena “data” i “features” en un nou array. Mostra els 5 primers registres."
   ]
  },
  {
   "cell_type": "code",
   "execution_count": 7,
   "id": "14313515",
   "metadata": {},
   "outputs": [
    {
     "data": {
      "text/plain": [
       "array([['sepal length (cm)', 'sepal width (cm)', 'petal length (cm)',\n",
       "        'petal width (cm)']], dtype='<U17')"
      ]
     },
     "execution_count": 7,
     "metadata": {},
     "output_type": "execute_result"
    }
   ],
   "source": [
    "# Como el array feature.np es 1D tenemos que aplicar el método reshape(1, -1) para transformarlo \n",
    "# en un array 2D y poder realizar el concatenate. \n",
    "feature_reshape = feature_np.reshape(1, -1)\n",
    "feature_reshape"
   ]
  },
  {
   "cell_type": "code",
   "execution_count": 53,
   "id": "ff89dd86",
   "metadata": {},
   "outputs": [
    {
     "name": "stdout",
     "output_type": "stream",
     "text": [
      "Los cinco primeros registros del array resultante después de concatenar feature y data son: \n"
     ]
    },
    {
     "data": {
      "text/plain": [
       "array([['sepal length (cm)', 'sepal width (cm)', 'petal length (cm)',\n",
       "        'petal width (cm)'],\n",
       "       ['5.1', '3.5', '1.4', '0.2'],\n",
       "       ['4.9', '3.0', '1.4', '0.2'],\n",
       "       ['4.7', '3.2', '1.3', '0.2'],\n",
       "       ['4.6', '3.1', '1.5', '0.2']], dtype='<U32')"
      ]
     },
     "execution_count": 53,
     "metadata": {},
     "output_type": "execute_result"
    }
   ],
   "source": [
    "# Aquí ubique el array feature_reshape como el primer argumento de la función concatenate para \n",
    "# que en el array resultante apareciera como header de cada columna. \n",
    "data_feature = np.concatenate((feature_reshape, data_np))\n",
    "print(\"Los cinco primeros registros del array resultante después de concatenar feature y data son: \")\n",
    "data_feature[:5 :]"
   ]
  },
  {
   "cell_type": "markdown",
   "id": "82a240a4",
   "metadata": {},
   "source": [
    "## Exercici 3\n",
    "\n",
    "Calcula la mitjana i desviació estàndard de la longitud del sèpal (\"sepal length (cm)\") i la longitud del pètal (\"petal length (cm)\"). Mostra els resultats amb dos decimals."
   ]
  },
  {
   "cell_type": "code",
   "execution_count": 57,
   "id": "0872b729",
   "metadata": {},
   "outputs": [
    {
     "name": "stdout",
     "output_type": "stream",
     "text": [
      "La media de la longitud del sépalo es 5.84\n",
      "La desviación estándar de la longitud del sépal es 0.83\n"
     ]
    }
   ],
   "source": [
    "# En los dos casos utilicé las funciones mean std y round de numpy \n",
    "\n",
    "sepal_length_mean = np.mean(data_np[: , 0])\n",
    "sepal_length_std = np.std(data_np[: , 0])\n",
    "\n",
    "print(\"La media de la longitud del sépalo es\", np.round(sepal_length_mean, 2))\n",
    "print(\"La desviación estándar de la longitud del sépal es\", np.round(sepal_length_std, 2))"
   ]
  },
  {
   "cell_type": "code",
   "execution_count": 59,
   "id": "72a949fd",
   "metadata": {},
   "outputs": [
    {
     "name": "stdout",
     "output_type": "stream",
     "text": [
      "La media de la longitud del sépalo es 3.76\n",
      "La desviación estándar de la longitud del sépal es 1.76\n"
     ]
    }
   ],
   "source": [
    "petal_length_mean = np.mean(data_np[: , 2])\n",
    "petal_length_std = np.std(data_np[: , 2])\n",
    "print(\"La media de la longitud del sépalo es\", np.round(petal_length_mean, 2))\n",
    "print(\"La desviación estándar de la longitud del sépal es\", np.round(petal_length_std, 2))"
   ]
  },
  {
   "cell_type": "markdown",
   "id": "03d19624",
   "metadata": {},
   "source": [
    "## Exercici 4\n",
    "Selecciona una mostra aleatòria de 20 registres del conjunt que has obtingut en l'exercici anterior."
   ]
  },
  {
   "cell_type": "code",
   "execution_count": 63,
   "id": "3da5d3b7",
   "metadata": {},
   "outputs": [],
   "source": [
    "#Como la función random.choice no puede utilizarse en un array 2D, útilizamos el la función\n",
    "#shape para extraer el tamaño de la primera columna (que nos indicará el tamaño de la muestra)\n",
    "#El replace=False se utiliza para no existan registros repetidos. \n",
    "\n",
    "random_sample = np.random.choice(data_np.shape[0], size=20, replace=False)"
   ]
  },
  {
   "cell_type": "code",
   "execution_count": 64,
   "id": "f2771d2f",
   "metadata": {},
   "outputs": [
    {
     "name": "stdout",
     "output_type": "stream",
     "text": [
      "[[6.1 2.8 4.7 1.2]\n",
      " [5.7 3.8 1.7 0.3]\n",
      " [6.9 3.1 5.1 2.3]\n",
      " [5.5 2.6 4.4 1.2]\n",
      " [5.  3.5 1.3 0.3]\n",
      " [5.4 3.4 1.7 0.2]\n",
      " [5.  3.3 1.4 0.2]\n",
      " [4.9 3.6 1.4 0.1]\n",
      " [6.1 3.  4.6 1.4]\n",
      " [5.7 2.8 4.5 1.3]\n",
      " [5.4 3.9 1.3 0.4]\n",
      " [6.2 2.9 4.3 1.3]\n",
      " [7.7 2.6 6.9 2.3]\n",
      " [4.8 3.  1.4 0.1]\n",
      " [6.3 2.7 4.9 1.8]\n",
      " [5.  3.6 1.4 0.2]\n",
      " [5.1 3.8 1.5 0.3]\n",
      " [7.  3.2 4.7 1.4]\n",
      " [5.8 2.7 5.1 1.9]\n",
      " [5.4 3.9 1.7 0.4]]\n"
     ]
    }
   ],
   "source": [
    "print(data_np[random_sample])"
   ]
  },
  {
   "cell_type": "markdown",
   "id": "5a0b2538",
   "metadata": {},
   "source": [
    "## Exercici 5\n",
    "\n",
    "Crea una matriu que mostri: \n",
    "\n",
    "• La mitjana de cada característica per espècie. \n",
    "\n",
    "• La desviació estàndard de cada característica per espècie."
   ]
  },
  {
   "cell_type": "code",
   "execution_count": 13,
   "id": "a6d165a8",
   "metadata": {},
   "outputs": [],
   "source": [
    "# Creamos un DataFrame utilizando como valores los contenidos en el array data_np y como headers \n",
    "# el array feature_np\n",
    "data_pd = pd.DataFrame(data=data_np, columns=feature_np)"
   ]
  },
  {
   "cell_type": "code",
   "execution_count": 86,
   "id": "82d6ebea",
   "metadata": {},
   "outputs": [
    {
     "data": {
      "text/html": [
       "<div>\n",
       "<style scoped>\n",
       "    .dataframe tbody tr th:only-of-type {\n",
       "        vertical-align: middle;\n",
       "    }\n",
       "\n",
       "    .dataframe tbody tr th {\n",
       "        vertical-align: top;\n",
       "    }\n",
       "\n",
       "    .dataframe thead th {\n",
       "        text-align: right;\n",
       "    }\n",
       "</style>\n",
       "<table border=\"1\" class=\"dataframe\">\n",
       "  <thead>\n",
       "    <tr style=\"text-align: right;\">\n",
       "      <th></th>\n",
       "      <th>sepal length (cm)</th>\n",
       "      <th>sepal width (cm)</th>\n",
       "      <th>petal length (cm)</th>\n",
       "      <th>petal width (cm)</th>\n",
       "      <th>species</th>\n",
       "      <th>length_diff</th>\n",
       "    </tr>\n",
       "  </thead>\n",
       "  <tbody>\n",
       "    <tr>\n",
       "      <th>0</th>\n",
       "      <td>5.1</td>\n",
       "      <td>3.5</td>\n",
       "      <td>1.4</td>\n",
       "      <td>0.2</td>\n",
       "      <td>setosa</td>\n",
       "      <td>3.7</td>\n",
       "    </tr>\n",
       "    <tr>\n",
       "      <th>1</th>\n",
       "      <td>4.9</td>\n",
       "      <td>3.0</td>\n",
       "      <td>1.4</td>\n",
       "      <td>0.2</td>\n",
       "      <td>setosa</td>\n",
       "      <td>3.5</td>\n",
       "    </tr>\n",
       "    <tr>\n",
       "      <th>2</th>\n",
       "      <td>4.7</td>\n",
       "      <td>3.2</td>\n",
       "      <td>1.3</td>\n",
       "      <td>0.2</td>\n",
       "      <td>setosa</td>\n",
       "      <td>3.4</td>\n",
       "    </tr>\n",
       "    <tr>\n",
       "      <th>3</th>\n",
       "      <td>4.6</td>\n",
       "      <td>3.1</td>\n",
       "      <td>1.5</td>\n",
       "      <td>0.2</td>\n",
       "      <td>setosa</td>\n",
       "      <td>3.1</td>\n",
       "    </tr>\n",
       "    <tr>\n",
       "      <th>4</th>\n",
       "      <td>5.0</td>\n",
       "      <td>3.6</td>\n",
       "      <td>1.4</td>\n",
       "      <td>0.2</td>\n",
       "      <td>setosa</td>\n",
       "      <td>3.6</td>\n",
       "    </tr>\n",
       "  </tbody>\n",
       "</table>\n",
       "</div>"
      ],
      "text/plain": [
       "   sepal length (cm)  sepal width (cm)  petal length (cm)  petal width (cm)  \\\n",
       "0                5.1               3.5                1.4               0.2   \n",
       "1                4.9               3.0                1.4               0.2   \n",
       "2                4.7               3.2                1.3               0.2   \n",
       "3                4.6               3.1                1.5               0.2   \n",
       "4                5.0               3.6                1.4               0.2   \n",
       "\n",
       "  species  length_diff  \n",
       "0  setosa          3.7  \n",
       "1  setosa          3.5  \n",
       "2  setosa          3.4  \n",
       "3  setosa          3.1  \n",
       "4  setosa          3.6  "
      ]
     },
     "execution_count": 86,
     "metadata": {},
     "output_type": "execute_result"
    }
   ],
   "source": [
    "data_pd.head()"
   ]
  },
  {
   "cell_type": "code",
   "execution_count": 70,
   "id": "38ffcd4e",
   "metadata": {},
   "outputs": [],
   "source": [
    "#Creamos una nueva columna \"species\" utilizando como datos los contenidos en el array species y\n",
    "# y como criterio de ubicación el array target\n",
    "data_species = data_pd['species'] = species[target]"
   ]
  },
  {
   "cell_type": "code",
   "execution_count": 72,
   "id": "c7849678",
   "metadata": {},
   "outputs": [
    {
     "data": {
      "text/html": [
       "<div>\n",
       "<style scoped>\n",
       "    .dataframe tbody tr th:only-of-type {\n",
       "        vertical-align: middle;\n",
       "    }\n",
       "\n",
       "    .dataframe tbody tr th {\n",
       "        vertical-align: top;\n",
       "    }\n",
       "\n",
       "    .dataframe thead tr th {\n",
       "        text-align: left;\n",
       "    }\n",
       "\n",
       "    .dataframe thead tr:last-of-type th {\n",
       "        text-align: right;\n",
       "    }\n",
       "</style>\n",
       "<table border=\"1\" class=\"dataframe\">\n",
       "  <thead>\n",
       "    <tr>\n",
       "      <th></th>\n",
       "      <th colspan=\"2\" halign=\"left\">sepal length (cm)</th>\n",
       "      <th colspan=\"2\" halign=\"left\">sepal width (cm)</th>\n",
       "      <th colspan=\"2\" halign=\"left\">petal length (cm)</th>\n",
       "      <th colspan=\"2\" halign=\"left\">petal width (cm)</th>\n",
       "      <th colspan=\"2\" halign=\"left\">length_diff</th>\n",
       "    </tr>\n",
       "    <tr>\n",
       "      <th></th>\n",
       "      <th>mean</th>\n",
       "      <th>std</th>\n",
       "      <th>mean</th>\n",
       "      <th>std</th>\n",
       "      <th>mean</th>\n",
       "      <th>std</th>\n",
       "      <th>mean</th>\n",
       "      <th>std</th>\n",
       "      <th>mean</th>\n",
       "      <th>std</th>\n",
       "    </tr>\n",
       "    <tr>\n",
       "      <th>species</th>\n",
       "      <th></th>\n",
       "      <th></th>\n",
       "      <th></th>\n",
       "      <th></th>\n",
       "      <th></th>\n",
       "      <th></th>\n",
       "      <th></th>\n",
       "      <th></th>\n",
       "      <th></th>\n",
       "      <th></th>\n",
       "    </tr>\n",
       "  </thead>\n",
       "  <tbody>\n",
       "    <tr>\n",
       "      <th>setosa</th>\n",
       "      <td>5.006</td>\n",
       "      <td>0.352490</td>\n",
       "      <td>3.428</td>\n",
       "      <td>0.379064</td>\n",
       "      <td>1.462</td>\n",
       "      <td>0.173664</td>\n",
       "      <td>0.246</td>\n",
       "      <td>0.105386</td>\n",
       "      <td>3.544</td>\n",
       "      <td>0.348852</td>\n",
       "    </tr>\n",
       "    <tr>\n",
       "      <th>versicolor</th>\n",
       "      <td>5.936</td>\n",
       "      <td>0.516171</td>\n",
       "      <td>2.770</td>\n",
       "      <td>0.313798</td>\n",
       "      <td>4.260</td>\n",
       "      <td>0.469911</td>\n",
       "      <td>1.326</td>\n",
       "      <td>0.197753</td>\n",
       "      <td>1.676</td>\n",
       "      <td>0.348501</td>\n",
       "    </tr>\n",
       "    <tr>\n",
       "      <th>virginica</th>\n",
       "      <td>6.588</td>\n",
       "      <td>0.635880</td>\n",
       "      <td>2.974</td>\n",
       "      <td>0.322497</td>\n",
       "      <td>5.552</td>\n",
       "      <td>0.551895</td>\n",
       "      <td>2.026</td>\n",
       "      <td>0.274650</td>\n",
       "      <td>1.036</td>\n",
       "      <td>0.319923</td>\n",
       "    </tr>\n",
       "  </tbody>\n",
       "</table>\n",
       "</div>"
      ],
      "text/plain": [
       "           sepal length (cm)           sepal width (cm)            \\\n",
       "                        mean       std             mean       std   \n",
       "species                                                             \n",
       "setosa                 5.006  0.352490            3.428  0.379064   \n",
       "versicolor             5.936  0.516171            2.770  0.313798   \n",
       "virginica              6.588  0.635880            2.974  0.322497   \n",
       "\n",
       "           petal length (cm)           petal width (cm)           length_diff  \\\n",
       "                        mean       std             mean       std        mean   \n",
       "species                                                                         \n",
       "setosa                 1.462  0.173664            0.246  0.105386       3.544   \n",
       "versicolor             4.260  0.469911            1.326  0.197753       1.676   \n",
       "virginica              5.552  0.551895            2.026  0.274650       1.036   \n",
       "\n",
       "                      \n",
       "                 std  \n",
       "species               \n",
       "setosa      0.348852  \n",
       "versicolor  0.348501  \n",
       "virginica   0.319923  "
      ]
     },
     "execution_count": 72,
     "metadata": {},
     "output_type": "execute_result"
    }
   ],
   "source": [
    "#Utilizando como criterio \"species\" utilizo un grupby al que aplico los métodos de agregación\n",
    "#\"mean\" y \"std\"\n",
    "mean_species = data_pd.groupby(\"species\").agg([\"mean\", \"std\"])\n",
    "mean_species"
   ]
  },
  {
   "cell_type": "markdown",
   "id": "b5fbbd5d",
   "metadata": {},
   "source": [
    "## Exercici 6\n",
    "• Calcula la quantitat de mostres per espècie.\n",
    "\n",
    "• Troba l'espècie amb el valor màxim mitjana de la variable \"sepal length (cm)\""
   ]
  },
  {
   "cell_type": "code",
   "execution_count": 37,
   "id": "93cdd1cc",
   "metadata": {},
   "outputs": [
    {
     "name": "stdout",
     "output_type": "stream",
     "text": [
      "Cantidad de muestras por especie: \n",
      "setosa        50\n",
      "versicolor    50\n",
      "virginica     50\n",
      "Name: species, dtype: int64\n"
     ]
    }
   ],
   "source": [
    "#Utilizo el método .value_counts para determinar cuántas muestras contiene cada especie\n",
    "\n",
    "species_count = data_pd[\"species\"].value_counts()\n",
    "print(\"Cantidad de muestras por especie: \")\n",
    "print(species_count)"
   ]
  },
  {
   "cell_type": "code",
   "execution_count": 75,
   "id": "828c16a1",
   "metadata": {},
   "outputs": [],
   "source": [
    "#Con un groupby en el cuál uso como criterio de agrupación \"species\" y como valores \n",
    "#\"sepal length (cm)\" aplico el método mean. Para determinar el id del valor máximo del \n",
    "#resultado de la agrupación utilizo el método .idxmax()\n",
    "\n",
    "max_mean_sepal_lenght = data_pd.groupby(\"species\")[\"sepal length (cm)\"].mean().idxmax()"
   ]
  },
  {
   "cell_type": "code",
   "execution_count": 76,
   "id": "48f7bd6c",
   "metadata": {},
   "outputs": [
    {
     "data": {
      "text/plain": [
       "'virginica'"
      ]
     },
     "execution_count": 76,
     "metadata": {},
     "output_type": "execute_result"
    }
   ],
   "source": [
    "max_mean_sepal_lenght"
   ]
  },
  {
   "cell_type": "markdown",
   "id": "3fdf98b7",
   "metadata": {},
   "source": [
    "## Exercici 7\n",
    "• Calcula la matriu de correlació entre les variables.\n",
    "\n",
    "• Filtra els valors majors a la mitjana de la longitud dels pètals i mostra-ho. \n",
    "\n",
    "• Troba la mostra amb els pètals més grans."
   ]
  },
  {
   "cell_type": "code",
   "execution_count": 40,
   "id": "8ea25095",
   "metadata": {
    "scrolled": true
   },
   "outputs": [
    {
     "name": "stdout",
     "output_type": "stream",
     "text": [
      "                   sepal length (cm)  sepal width (cm)  petal length (cm)  \\\n",
      "sepal length (cm)           1.000000         -0.117570           0.871754   \n",
      "sepal width (cm)           -0.117570          1.000000          -0.428440   \n",
      "petal length (cm)           0.871754         -0.428440           1.000000   \n",
      "petal width (cm)            0.817941         -0.366126           0.962865   \n",
      "\n",
      "                   petal width (cm)  \n",
      "sepal length (cm)          0.817941  \n",
      "sepal width (cm)          -0.366126  \n",
      "petal length (cm)          0.962865  \n",
      "petal width (cm)           1.000000  \n"
     ]
    }
   ],
   "source": [
    "#Utilizo la función pd.corr con el argumento numeric_only=True para que solo calcule la \n",
    "#correlación de variables numéricas\n",
    "\n",
    "print(data_pd.corr(numeric_only=True))"
   ]
  },
  {
   "cell_type": "code",
   "execution_count": null,
   "id": "0f13b3c1",
   "metadata": {},
   "outputs": [],
   "source": [
    "# Los resultados los leemos como: \n",
    "# - Existe una alta correlación (0.9628) positiva entre el largo y el ancho de los pétalos, \n",
    "# lo que quiere decir que pétalos más largos serán casi siempre más anchos. \n",
    "# - Sin embargo, en el caso del ancho y el largo de los sépalos aunque la correlación positiva\n",
    "# (0.8179) es alta no lo es tanto como en el caso de los pétalos. \n",
    "# -Un sépalo más largo casi siempre tendrá pétalos más largos (0.8718), pero un sépalo más  \n",
    "# ancho no representa una correlación significativa con un pétalo más ancho (-0.3661)"
   ]
  },
  {
   "cell_type": "code",
   "execution_count": 84,
   "id": "9fd02724",
   "metadata": {},
   "outputs": [
    {
     "name": "stdout",
     "output_type": "stream",
     "text": [
      "     petal length (cm)\n",
      "50                 4.7\n",
      "51                 4.5\n",
      "52                 4.9\n",
      "53                 4.0\n",
      "54                 4.6\n",
      "..                 ...\n",
      "145                5.2\n",
      "146                5.0\n",
      "147                5.2\n",
      "148                5.4\n",
      "149                5.1\n",
      "\n",
      "[93 rows x 1 columns]\n",
      "El numero de observaciones que está sobre la media del largo de los pétalos es: 93\n"
     ]
    }
   ],
   "source": [
    "petalos_mean_mas = data_pd[data_pd[\"petal length (cm)\"] > petal_length_mean]\n",
    "print(petalos_mean_mas[[\"petal length (cm)\"]])\n",
    "print(\"El numero de observaciones que están sobre la media del largo de los pétalos es:\",\n",
    "      len(petalos_mean_mas))"
   ]
  },
  {
   "cell_type": "code",
   "execution_count": 77,
   "id": "28ca5aa5",
   "metadata": {},
   "outputs": [
    {
     "data": {
      "text/html": [
       "<div>\n",
       "<style scoped>\n",
       "    .dataframe tbody tr th:only-of-type {\n",
       "        vertical-align: middle;\n",
       "    }\n",
       "\n",
       "    .dataframe tbody tr th {\n",
       "        vertical-align: top;\n",
       "    }\n",
       "\n",
       "    .dataframe thead th {\n",
       "        text-align: right;\n",
       "    }\n",
       "</style>\n",
       "<table border=\"1\" class=\"dataframe\">\n",
       "  <thead>\n",
       "    <tr style=\"text-align: right;\">\n",
       "      <th></th>\n",
       "      <th>sepal length (cm)</th>\n",
       "      <th>sepal width (cm)</th>\n",
       "      <th>petal length (cm)</th>\n",
       "      <th>petal width (cm)</th>\n",
       "      <th>species</th>\n",
       "      <th>length_diff</th>\n",
       "    </tr>\n",
       "  </thead>\n",
       "  <tbody>\n",
       "    <tr>\n",
       "      <th>50</th>\n",
       "      <td>7.0</td>\n",
       "      <td>3.2</td>\n",
       "      <td>4.7</td>\n",
       "      <td>1.4</td>\n",
       "      <td>versicolor</td>\n",
       "      <td>2.3</td>\n",
       "    </tr>\n",
       "    <tr>\n",
       "      <th>51</th>\n",
       "      <td>6.4</td>\n",
       "      <td>3.2</td>\n",
       "      <td>4.5</td>\n",
       "      <td>1.5</td>\n",
       "      <td>versicolor</td>\n",
       "      <td>1.9</td>\n",
       "    </tr>\n",
       "    <tr>\n",
       "      <th>52</th>\n",
       "      <td>6.9</td>\n",
       "      <td>3.1</td>\n",
       "      <td>4.9</td>\n",
       "      <td>1.5</td>\n",
       "      <td>versicolor</td>\n",
       "      <td>2.0</td>\n",
       "    </tr>\n",
       "    <tr>\n",
       "      <th>53</th>\n",
       "      <td>5.5</td>\n",
       "      <td>2.3</td>\n",
       "      <td>4.0</td>\n",
       "      <td>1.3</td>\n",
       "      <td>versicolor</td>\n",
       "      <td>1.5</td>\n",
       "    </tr>\n",
       "    <tr>\n",
       "      <th>54</th>\n",
       "      <td>6.5</td>\n",
       "      <td>2.8</td>\n",
       "      <td>4.6</td>\n",
       "      <td>1.5</td>\n",
       "      <td>versicolor</td>\n",
       "      <td>1.9</td>\n",
       "    </tr>\n",
       "    <tr>\n",
       "      <th>...</th>\n",
       "      <td>...</td>\n",
       "      <td>...</td>\n",
       "      <td>...</td>\n",
       "      <td>...</td>\n",
       "      <td>...</td>\n",
       "      <td>...</td>\n",
       "    </tr>\n",
       "    <tr>\n",
       "      <th>145</th>\n",
       "      <td>6.7</td>\n",
       "      <td>3.0</td>\n",
       "      <td>5.2</td>\n",
       "      <td>2.3</td>\n",
       "      <td>virginica</td>\n",
       "      <td>1.5</td>\n",
       "    </tr>\n",
       "    <tr>\n",
       "      <th>146</th>\n",
       "      <td>6.3</td>\n",
       "      <td>2.5</td>\n",
       "      <td>5.0</td>\n",
       "      <td>1.9</td>\n",
       "      <td>virginica</td>\n",
       "      <td>1.3</td>\n",
       "    </tr>\n",
       "    <tr>\n",
       "      <th>147</th>\n",
       "      <td>6.5</td>\n",
       "      <td>3.0</td>\n",
       "      <td>5.2</td>\n",
       "      <td>2.0</td>\n",
       "      <td>virginica</td>\n",
       "      <td>1.3</td>\n",
       "    </tr>\n",
       "    <tr>\n",
       "      <th>148</th>\n",
       "      <td>6.2</td>\n",
       "      <td>3.4</td>\n",
       "      <td>5.4</td>\n",
       "      <td>2.3</td>\n",
       "      <td>virginica</td>\n",
       "      <td>0.8</td>\n",
       "    </tr>\n",
       "    <tr>\n",
       "      <th>149</th>\n",
       "      <td>5.9</td>\n",
       "      <td>3.0</td>\n",
       "      <td>5.1</td>\n",
       "      <td>1.8</td>\n",
       "      <td>virginica</td>\n",
       "      <td>0.8</td>\n",
       "    </tr>\n",
       "  </tbody>\n",
       "</table>\n",
       "<p>93 rows × 6 columns</p>\n",
       "</div>"
      ],
      "text/plain": [
       "     sepal length (cm)  sepal width (cm)  petal length (cm)  petal width (cm)  \\\n",
       "50                 7.0               3.2                4.7               1.4   \n",
       "51                 6.4               3.2                4.5               1.5   \n",
       "52                 6.9               3.1                4.9               1.5   \n",
       "53                 5.5               2.3                4.0               1.3   \n",
       "54                 6.5               2.8                4.6               1.5   \n",
       "..                 ...               ...                ...               ...   \n",
       "145                6.7               3.0                5.2               2.3   \n",
       "146                6.3               2.5                5.0               1.9   \n",
       "147                6.5               3.0                5.2               2.0   \n",
       "148                6.2               3.4                5.4               2.3   \n",
       "149                5.9               3.0                5.1               1.8   \n",
       "\n",
       "        species  length_diff  \n",
       "50   versicolor          2.3  \n",
       "51   versicolor          1.9  \n",
       "52   versicolor          2.0  \n",
       "53   versicolor          1.5  \n",
       "54   versicolor          1.9  \n",
       "..          ...          ...  \n",
       "145   virginica          1.5  \n",
       "146   virginica          1.3  \n",
       "147   virginica          1.3  \n",
       "148   virginica          0.8  \n",
       "149   virginica          0.8  \n",
       "\n",
       "[93 rows x 6 columns]"
      ]
     },
     "execution_count": 77,
     "metadata": {},
     "output_type": "execute_result"
    }
   ],
   "source": [
    "#Utilice otro código para comprobar el resultado\n",
    "mean_petal_length = data_pd['petal length (cm)'].mean()\n",
    "petalos_mayor_media = data_pd[data_pd['petal length (cm)'] > mean_petal_length]\n",
    "petalos_mayor_media"
   ]
  },
  {
   "cell_type": "code",
   "execution_count": 80,
   "id": "024931cb",
   "metadata": {},
   "outputs": [
    {
     "name": "stdout",
     "output_type": "stream",
     "text": [
      "La muestra del pétalo más grande es: \n",
      "sepal length (cm)          7.7\n",
      "sepal width (cm)           2.6\n",
      "petal length (cm)          6.9\n",
      "petal width (cm)           2.3\n",
      "species              virginica\n",
      "length_diff                0.8\n",
      "Name: 118, dtype: object\n"
     ]
    }
   ],
   "source": [
    "#Utilizo el pd.loc para seleccionar la columna \"petal length (cm)\" y luego de aplicar el método \n",
    "#.idxmax determinar la muestra del pétalo más grande. \n",
    "\n",
    "big_sample_petal = data_pd.loc[data_pd['petal length (cm)'].idxmax()]\n",
    "print(\"La muestra del pétalo más largo es: \")\n",
    "print(big_sample_petal)"
   ]
  },
  {
   "cell_type": "code",
   "execution_count": 44,
   "id": "aa0e83f2",
   "metadata": {},
   "outputs": [
    {
     "data": {
      "text/html": [
       "<div>\n",
       "<style scoped>\n",
       "    .dataframe tbody tr th:only-of-type {\n",
       "        vertical-align: middle;\n",
       "    }\n",
       "\n",
       "    .dataframe tbody tr th {\n",
       "        vertical-align: top;\n",
       "    }\n",
       "\n",
       "    .dataframe thead th {\n",
       "        text-align: right;\n",
       "    }\n",
       "</style>\n",
       "<table border=\"1\" class=\"dataframe\">\n",
       "  <thead>\n",
       "    <tr style=\"text-align: right;\">\n",
       "      <th></th>\n",
       "      <th>sepal length (cm)</th>\n",
       "      <th>sepal width (cm)</th>\n",
       "      <th>petal length (cm)</th>\n",
       "      <th>petal width (cm)</th>\n",
       "    </tr>\n",
       "  </thead>\n",
       "  <tbody>\n",
       "    <tr>\n",
       "      <th>count</th>\n",
       "      <td>150.000000</td>\n",
       "      <td>150.000000</td>\n",
       "      <td>150.000000</td>\n",
       "      <td>150.000000</td>\n",
       "    </tr>\n",
       "    <tr>\n",
       "      <th>mean</th>\n",
       "      <td>5.843333</td>\n",
       "      <td>3.057333</td>\n",
       "      <td>3.758000</td>\n",
       "      <td>1.199333</td>\n",
       "    </tr>\n",
       "    <tr>\n",
       "      <th>std</th>\n",
       "      <td>0.828066</td>\n",
       "      <td>0.435866</td>\n",
       "      <td>1.765298</td>\n",
       "      <td>0.762238</td>\n",
       "    </tr>\n",
       "    <tr>\n",
       "      <th>min</th>\n",
       "      <td>4.300000</td>\n",
       "      <td>2.000000</td>\n",
       "      <td>1.000000</td>\n",
       "      <td>0.100000</td>\n",
       "    </tr>\n",
       "    <tr>\n",
       "      <th>25%</th>\n",
       "      <td>5.100000</td>\n",
       "      <td>2.800000</td>\n",
       "      <td>1.600000</td>\n",
       "      <td>0.300000</td>\n",
       "    </tr>\n",
       "    <tr>\n",
       "      <th>50%</th>\n",
       "      <td>5.800000</td>\n",
       "      <td>3.000000</td>\n",
       "      <td>4.350000</td>\n",
       "      <td>1.300000</td>\n",
       "    </tr>\n",
       "    <tr>\n",
       "      <th>75%</th>\n",
       "      <td>6.400000</td>\n",
       "      <td>3.300000</td>\n",
       "      <td>5.100000</td>\n",
       "      <td>1.800000</td>\n",
       "    </tr>\n",
       "    <tr>\n",
       "      <th>max</th>\n",
       "      <td>7.900000</td>\n",
       "      <td>4.400000</td>\n",
       "      <td>6.900000</td>\n",
       "      <td>2.500000</td>\n",
       "    </tr>\n",
       "  </tbody>\n",
       "</table>\n",
       "</div>"
      ],
      "text/plain": [
       "       sepal length (cm)  sepal width (cm)  petal length (cm)  \\\n",
       "count         150.000000        150.000000         150.000000   \n",
       "mean            5.843333          3.057333           3.758000   \n",
       "std             0.828066          0.435866           1.765298   \n",
       "min             4.300000          2.000000           1.000000   \n",
       "25%             5.100000          2.800000           1.600000   \n",
       "50%             5.800000          3.000000           4.350000   \n",
       "75%             6.400000          3.300000           5.100000   \n",
       "max             7.900000          4.400000           6.900000   \n",
       "\n",
       "       petal width (cm)  \n",
       "count        150.000000  \n",
       "mean           1.199333  \n",
       "std            0.762238  \n",
       "min            0.100000  \n",
       "25%            0.300000  \n",
       "50%            1.300000  \n",
       "75%            1.800000  \n",
       "max            2.500000  "
      ]
     },
     "execution_count": 44,
     "metadata": {},
     "output_type": "execute_result"
    }
   ],
   "source": [
    "#Con el pd.describe() compruebo que el valor máximo del largo del pétalo es de 6.9\n",
    "data_pd.describe()"
   ]
  },
  {
   "cell_type": "markdown",
   "id": "512dd82e",
   "metadata": {},
   "source": [
    "## Exercici 8\n",
    "Troba l'espècie amb la diferència més gran entre la longitud mitjana de sèpals i pètals."
   ]
  },
  {
   "cell_type": "code",
   "execution_count": 85,
   "id": "ef4dde5c",
   "metadata": {},
   "outputs": [
    {
     "data": {
      "text/html": [
       "<div>\n",
       "<style scoped>\n",
       "    .dataframe tbody tr th:only-of-type {\n",
       "        vertical-align: middle;\n",
       "    }\n",
       "\n",
       "    .dataframe tbody tr th {\n",
       "        vertical-align: top;\n",
       "    }\n",
       "\n",
       "    .dataframe thead th {\n",
       "        text-align: right;\n",
       "    }\n",
       "</style>\n",
       "<table border=\"1\" class=\"dataframe\">\n",
       "  <thead>\n",
       "    <tr style=\"text-align: right;\">\n",
       "      <th></th>\n",
       "      <th>sepal length (cm)</th>\n",
       "      <th>sepal width (cm)</th>\n",
       "      <th>petal length (cm)</th>\n",
       "      <th>petal width (cm)</th>\n",
       "      <th>species</th>\n",
       "      <th>length_diff</th>\n",
       "    </tr>\n",
       "  </thead>\n",
       "  <tbody>\n",
       "    <tr>\n",
       "      <th>0</th>\n",
       "      <td>5.1</td>\n",
       "      <td>3.5</td>\n",
       "      <td>1.4</td>\n",
       "      <td>0.2</td>\n",
       "      <td>setosa</td>\n",
       "      <td>3.7</td>\n",
       "    </tr>\n",
       "    <tr>\n",
       "      <th>1</th>\n",
       "      <td>4.9</td>\n",
       "      <td>3.0</td>\n",
       "      <td>1.4</td>\n",
       "      <td>0.2</td>\n",
       "      <td>setosa</td>\n",
       "      <td>3.5</td>\n",
       "    </tr>\n",
       "    <tr>\n",
       "      <th>2</th>\n",
       "      <td>4.7</td>\n",
       "      <td>3.2</td>\n",
       "      <td>1.3</td>\n",
       "      <td>0.2</td>\n",
       "      <td>setosa</td>\n",
       "      <td>3.4</td>\n",
       "    </tr>\n",
       "    <tr>\n",
       "      <th>3</th>\n",
       "      <td>4.6</td>\n",
       "      <td>3.1</td>\n",
       "      <td>1.5</td>\n",
       "      <td>0.2</td>\n",
       "      <td>setosa</td>\n",
       "      <td>3.1</td>\n",
       "    </tr>\n",
       "    <tr>\n",
       "      <th>4</th>\n",
       "      <td>5.0</td>\n",
       "      <td>3.6</td>\n",
       "      <td>1.4</td>\n",
       "      <td>0.2</td>\n",
       "      <td>setosa</td>\n",
       "      <td>3.6</td>\n",
       "    </tr>\n",
       "  </tbody>\n",
       "</table>\n",
       "</div>"
      ],
      "text/plain": [
       "   sepal length (cm)  sepal width (cm)  petal length (cm)  petal width (cm)  \\\n",
       "0                5.1               3.5                1.4               0.2   \n",
       "1                4.9               3.0                1.4               0.2   \n",
       "2                4.7               3.2                1.3               0.2   \n",
       "3                4.6               3.1                1.5               0.2   \n",
       "4                5.0               3.6                1.4               0.2   \n",
       "\n",
       "  species  length_diff  \n",
       "0  setosa          3.7  \n",
       "1  setosa          3.5  \n",
       "2  setosa          3.4  \n",
       "3  setosa          3.1  \n",
       "4  setosa          3.6  "
      ]
     },
     "execution_count": 85,
     "metadata": {},
     "output_type": "execute_result"
    }
   ],
   "source": [
    "#Creo una nueva columna que reste el largo del pétalo al largo del sépalo\n",
    "data_pd[\"length_diff\"] = data_pd[\"sepal length (cm)\"] - data_pd[\"petal length (cm)\"]\n",
    "data_pd.head()"
   ]
  },
  {
   "cell_type": "code",
   "execution_count": 89,
   "id": "e210bf7a",
   "metadata": {},
   "outputs": [
    {
     "data": {
      "text/plain": [
       "species\n",
       "setosa        3.544\n",
       "versicolor    1.676\n",
       "virginica     1.036\n",
       "Name: length_diff, dtype: float64"
      ]
     },
     "execution_count": 89,
     "metadata": {},
     "output_type": "execute_result"
    }
   ],
   "source": [
    "#Utilizo un groupby para agrupar los valores de la nueva columna con las categorias de la \n",
    "#columna \"species\" y aplico el método de agregación .mean(). Si además de eso utilizo el \n",
    "#método .idxmax() solo me aparecería el nombre de la especie. En este caso prefiero también\n",
    "#retornar las medias de por especie. \n",
    "\n",
    "groupby_diff = data_pd.groupby(\"species\")[\"length_diff\"].mean()\n",
    "groupby_diff"
   ]
  }
 ],
 "metadata": {
  "kernelspec": {
   "display_name": "Python 3 (ipykernel)",
   "language": "python",
   "name": "python3"
  },
  "language_info": {
   "codemirror_mode": {
    "name": "ipython",
    "version": 3
   },
   "file_extension": ".py",
   "mimetype": "text/x-python",
   "name": "python",
   "nbconvert_exporter": "python",
   "pygments_lexer": "ipython3",
   "version": "3.10.9"
  }
 },
 "nbformat": 4,
 "nbformat_minor": 5
}
